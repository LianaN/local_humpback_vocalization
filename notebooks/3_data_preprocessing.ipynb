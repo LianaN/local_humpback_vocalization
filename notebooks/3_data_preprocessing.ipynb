{
 "cells": [
  {
   "cell_type": "markdown",
   "metadata": {},
   "source": [
    "# Data Preprocessing\n",
    "Pre-requisites: Run the notebook `1_data_acquisition.ipynb` to download the labeled data of humpback vocalizations from [Orcasound's AWS open data repository](https://open.quiltdata.com/b/acoustic-sandbox/tree/humpbacks/Emily-Vierling-Orcasound-data/Em_HW_data/flac_files/).\n",
    "\n",
    "This notebook retrieves the humpback vocalizations from raw files according to the annotations and saves the retrieved signals in separate files in WAV format. The retrieved vocalization data is aimed at training the local humpback vocalization model able to detect the presence of humpback vocalizations in audio files."
   ]
  },
  {
   "cell_type": "code",
   "execution_count": null,
   "metadata": {},
   "outputs": [],
   "source": []
  }
 ],
 "metadata": {
  "language_info": {
   "name": "python"
  },
  "orig_nbformat": 4
 },
 "nbformat": 4,
 "nbformat_minor": 2
}
