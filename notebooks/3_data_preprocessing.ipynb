{
  "cells": [
    {
      "cell_type": "markdown",
      "metadata": {
        "id": "3lnMBFBdB0rq"
      },
      "source": [
        "# Data Preprocessing\n",
        "Pre-requisites: Run the notebook `1_data_acquisition.ipynb` to download the labeled data of humpback whale vocalizations from [Orcasound's AWS open data repository](https://open.quiltdata.com/b/acoustic-sandbox/tree/humpbacks/Emily-Vierling-Orcasound-data/Em_HW_data/flac_files/).\n",
        "\n",
        "This notebook retrieves the humpback vocalizations from raw files according to the annotations and saves the retrieved signals in separate files in WAV format. The retrieved vocalization data is aimed at training the local humpback whale vocalization model able to detect the presence of humpback whale vocalizations in audio files."
      ]
    },
    {
      "cell_type": "code",
      "execution_count": null,
      "metadata": {
        "id": "XqfVc7t8B0rz"
      },
      "outputs": [],
      "source": [
        "#!pip install librosa soundfile"
      ]
    },
    {
      "cell_type": "markdown",
      "metadata": {
        "id": "DYgw-hG3CFdM"
      },
      "source": [
        "Uncomment the code below if you are using Google Colaboratory. It will connect to the project folder in Google Drive and will use the `data` from the data folder of the project folder."
      ]
    },
    {
      "cell_type": "code",
      "execution_count": 1,
      "metadata": {
        "colab": {
          "base_uri": "https://localhost:8080/"
        },
        "id": "rBtJugAcB58i",
        "outputId": "35c65419-e1b7-490f-ea86-a0c0fb82a67b"
      },
      "outputs": [
        {
          "name": "stdout",
          "output_type": "stream",
          "text": [
            "Mounted at /content/gdrive\n",
            "/content/gdrive/MyDrive/Colab Notebooks/local_humpback_vocalization/local_humpback_vocalization/notebooks\n"
          ]
        }
      ],
      "source": [
        "from google.colab import drive\n",
        "drive.mount(\"/content/gdrive\")\n",
        "%cd gdrive/MyDrive/Colab Notebooks/local_humpback_vocalization/local_humpback_vocalization/notebooks"
      ]
    },
    {
      "cell_type": "code",
      "execution_count": 23,
      "metadata": {
        "id": "nWMK5HMZDdgb"
      },
      "outputs": [],
      "source": [
        "import os\n",
        "import scipy.signal as sp\n",
        "import pandas as pd\n",
        "import librosa\n",
        "import soundfile as sf"
      ]
    },
    {
      "cell_type": "code",
      "execution_count": 15,
      "metadata": {
        "id": "m1l-tSs7DQYS"
      },
      "outputs": [],
      "source": [
        "data_download_folder = \"../data\"\n",
        "annotations_path = f\"{data_download_folder}/raw/annotations\"\n",
        "audio_path = f\"{data_download_folder}/raw/audio\"\n",
        "extracted_calls_path = f\"{data_download_folder}/extracted_calls\""
      ]
    },
    {
      "cell_type": "code",
      "execution_count": 16,
      "metadata": {
        "id": "zfYts-EXH4Je"
      },
      "outputs": [],
      "source": [
        "isExist = os.path.exists(extracted_calls_path)\n",
        "if not isExist:\n",
        "   os.makedirs(extracted_calls_path)"
      ]
    },
    {
      "cell_type": "markdown",
      "metadata": {
        "id": "svVPUvqFFLAD"
      },
      "source": [
        "## 1. Extract Humpback Vocalizations\n",
        "\n",
        "To extract humpback vocalizations and store them in separate WAV files, we will use the annotation files that contain the result of labeling. In particular, the annotation files provide the information about the begin and end times of vocalizations, as well as frequencies and call types."
      ]
    },
    {
      "cell_type": "markdown",
      "metadata": {
        "id": "GlsxAOWJFqeP"
      },
      "source": [
        "### 1.1. Load Annotation File"
      ]
    },
    {
      "cell_type": "code",
      "execution_count": 8,
      "metadata": {
        "colab": {
          "base_uri": "https://localhost:8080/",
          "height": 206
        },
        "id": "DbFX2bxhDIKr",
        "outputId": "a5ff5264-cbb7-48ba-d8b5-c1207ea7f86d"
      },
      "outputs": [
        {
          "data": {
            "text/html": [
              "\n",
              "  <div id=\"df-5cc2eb5f-04c1-446c-bab3-54fce7ecd7f8\" class=\"colab-df-container\">\n",
              "    <div>\n",
              "<style scoped>\n",
              "    .dataframe tbody tr th:only-of-type {\n",
              "        vertical-align: middle;\n",
              "    }\n",
              "\n",
              "    .dataframe tbody tr th {\n",
              "        vertical-align: top;\n",
              "    }\n",
              "\n",
              "    .dataframe thead th {\n",
              "        text-align: right;\n",
              "    }\n",
              "</style>\n",
              "<table border=\"1\" class=\"dataframe\">\n",
              "  <thead>\n",
              "    <tr style=\"text-align: right;\">\n",
              "      <th></th>\n",
              "      <th>Selection</th>\n",
              "      <th>Begin Time (s)</th>\n",
              "      <th>End Time (s)</th>\n",
              "      <th>Low Freq (Hz)</th>\n",
              "      <th>High Freq (Hz)</th>\n",
              "      <th>Call Type</th>\n",
              "    </tr>\n",
              "  </thead>\n",
              "  <tbody>\n",
              "    <tr>\n",
              "      <th>0</th>\n",
              "      <td>1</td>\n",
              "      <td>1646.999571</td>\n",
              "      <td>1648.733984</td>\n",
              "      <td>628.263</td>\n",
              "      <td>1297.059</td>\n",
              "      <td>Ascending moan</td>\n",
              "    </tr>\n",
              "    <tr>\n",
              "      <th>1</th>\n",
              "      <td>2</td>\n",
              "      <td>1653.223452</td>\n",
              "      <td>1654.641001</td>\n",
              "      <td>749.862</td>\n",
              "      <td>1134.926</td>\n",
              "      <td>Moan</td>\n",
              "    </tr>\n",
              "    <tr>\n",
              "      <th>2</th>\n",
              "      <td>3</td>\n",
              "      <td>1659.862135</td>\n",
              "      <td>1660.595925</td>\n",
              "      <td>770.129</td>\n",
              "      <td>1033.594</td>\n",
              "      <td>Moan</td>\n",
              "    </tr>\n",
              "    <tr>\n",
              "      <th>3</th>\n",
              "      <td>4</td>\n",
              "      <td>1661.796673</td>\n",
              "      <td>1663.747887</td>\n",
              "      <td>283.732</td>\n",
              "      <td>709.329</td>\n",
              "      <td>Ascending moan</td>\n",
              "    </tr>\n",
              "    <tr>\n",
              "      <th>4</th>\n",
              "      <td>5</td>\n",
              "      <td>1678.344185</td>\n",
              "      <td>1680.262045</td>\n",
              "      <td>506.664</td>\n",
              "      <td>1013.327</td>\n",
              "      <td>Moan</td>\n",
              "    </tr>\n",
              "  </tbody>\n",
              "</table>\n",
              "</div>\n",
              "    <div class=\"colab-df-buttons\">\n",
              "\n",
              "  <div class=\"colab-df-container\">\n",
              "    <button class=\"colab-df-convert\" onclick=\"convertToInteractive('df-5cc2eb5f-04c1-446c-bab3-54fce7ecd7f8')\"\n",
              "            title=\"Convert this dataframe to an interactive table.\"\n",
              "            style=\"display:none;\">\n",
              "\n",
              "  <svg xmlns=\"http://www.w3.org/2000/svg\" height=\"24px\" viewBox=\"0 -960 960 960\">\n",
              "    <path d=\"M120-120v-720h720v720H120Zm60-500h600v-160H180v160Zm220 220h160v-160H400v160Zm0 220h160v-160H400v160ZM180-400h160v-160H180v160Zm440 0h160v-160H620v160ZM180-180h160v-160H180v160Zm440 0h160v-160H620v160Z\"/>\n",
              "  </svg>\n",
              "    </button>\n",
              "\n",
              "  <style>\n",
              "    .colab-df-container {\n",
              "      display:flex;\n",
              "      gap: 12px;\n",
              "    }\n",
              "\n",
              "    .colab-df-convert {\n",
              "      background-color: #E8F0FE;\n",
              "      border: none;\n",
              "      border-radius: 50%;\n",
              "      cursor: pointer;\n",
              "      display: none;\n",
              "      fill: #1967D2;\n",
              "      height: 32px;\n",
              "      padding: 0 0 0 0;\n",
              "      width: 32px;\n",
              "    }\n",
              "\n",
              "    .colab-df-convert:hover {\n",
              "      background-color: #E2EBFA;\n",
              "      box-shadow: 0px 1px 2px rgba(60, 64, 67, 0.3), 0px 1px 3px 1px rgba(60, 64, 67, 0.15);\n",
              "      fill: #174EA6;\n",
              "    }\n",
              "\n",
              "    .colab-df-buttons div {\n",
              "      margin-bottom: 4px;\n",
              "    }\n",
              "\n",
              "    [theme=dark] .colab-df-convert {\n",
              "      background-color: #3B4455;\n",
              "      fill: #D2E3FC;\n",
              "    }\n",
              "\n",
              "    [theme=dark] .colab-df-convert:hover {\n",
              "      background-color: #434B5C;\n",
              "      box-shadow: 0px 1px 3px 1px rgba(0, 0, 0, 0.15);\n",
              "      filter: drop-shadow(0px 1px 2px rgba(0, 0, 0, 0.3));\n",
              "      fill: #FFFFFF;\n",
              "    }\n",
              "  </style>\n",
              "\n",
              "    <script>\n",
              "      const buttonEl =\n",
              "        document.querySelector('#df-5cc2eb5f-04c1-446c-bab3-54fce7ecd7f8 button.colab-df-convert');\n",
              "      buttonEl.style.display =\n",
              "        google.colab.kernel.accessAllowed ? 'block' : 'none';\n",
              "\n",
              "      async function convertToInteractive(key) {\n",
              "        const element = document.querySelector('#df-5cc2eb5f-04c1-446c-bab3-54fce7ecd7f8');\n",
              "        const dataTable =\n",
              "          await google.colab.kernel.invokeFunction('convertToInteractive',\n",
              "                                                    [key], {});\n",
              "        if (!dataTable) return;\n",
              "\n",
              "        const docLinkHtml = 'Like what you see? Visit the ' +\n",
              "          '<a target=\"_blank\" href=https://colab.research.google.com/notebooks/data_table.ipynb>data table notebook</a>'\n",
              "          + ' to learn more about interactive tables.';\n",
              "        element.innerHTML = '';\n",
              "        dataTable['output_type'] = 'display_data';\n",
              "        await google.colab.output.renderOutput(dataTable, element);\n",
              "        const docLink = document.createElement('div');\n",
              "        docLink.innerHTML = docLinkHtml;\n",
              "        element.appendChild(docLink);\n",
              "      }\n",
              "    </script>\n",
              "  </div>\n",
              "\n",
              "\n",
              "<div id=\"df-51e83176-3326-499d-bd09-777aef1c649d\">\n",
              "  <button class=\"colab-df-quickchart\" onclick=\"quickchart('df-51e83176-3326-499d-bd09-777aef1c649d')\"\n",
              "            title=\"Suggest charts.\"\n",
              "            style=\"display:none;\">\n",
              "\n",
              "<svg xmlns=\"http://www.w3.org/2000/svg\" height=\"24px\"viewBox=\"0 0 24 24\"\n",
              "     width=\"24px\">\n",
              "    <g>\n",
              "        <path d=\"M19 3H5c-1.1 0-2 .9-2 2v14c0 1.1.9 2 2 2h14c1.1 0 2-.9 2-2V5c0-1.1-.9-2-2-2zM9 17H7v-7h2v7zm4 0h-2V7h2v10zm4 0h-2v-4h2v4z\"/>\n",
              "    </g>\n",
              "</svg>\n",
              "  </button>\n",
              "\n",
              "<style>\n",
              "  .colab-df-quickchart {\n",
              "    background-color: #E8F0FE;\n",
              "    border: none;\n",
              "    border-radius: 50%;\n",
              "    cursor: pointer;\n",
              "    display: none;\n",
              "    fill: #1967D2;\n",
              "    height: 32px;\n",
              "    padding: 0 0 0 0;\n",
              "    width: 32px;\n",
              "  }\n",
              "\n",
              "  .colab-df-quickchart:hover {\n",
              "    background-color: #E2EBFA;\n",
              "    box-shadow: 0px 1px 2px rgba(60, 64, 67, 0.3), 0px 1px 3px 1px rgba(60, 64, 67, 0.15);\n",
              "    fill: #174EA6;\n",
              "  }\n",
              "\n",
              "  [theme=dark] .colab-df-quickchart {\n",
              "    background-color: #3B4455;\n",
              "    fill: #D2E3FC;\n",
              "  }\n",
              "\n",
              "  [theme=dark] .colab-df-quickchart:hover {\n",
              "    background-color: #434B5C;\n",
              "    box-shadow: 0px 1px 3px 1px rgba(0, 0, 0, 0.15);\n",
              "    filter: drop-shadow(0px 1px 2px rgba(0, 0, 0, 0.3));\n",
              "    fill: #FFFFFF;\n",
              "  }\n",
              "</style>\n",
              "\n",
              "  <script>\n",
              "    async function quickchart(key) {\n",
              "      const charts = await google.colab.kernel.invokeFunction(\n",
              "          'suggestCharts', [key], {});\n",
              "    }\n",
              "    (() => {\n",
              "      let quickchartButtonEl =\n",
              "        document.querySelector('#df-51e83176-3326-499d-bd09-777aef1c649d button');\n",
              "      quickchartButtonEl.style.display =\n",
              "        google.colab.kernel.accessAllowed ? 'block' : 'none';\n",
              "    })();\n",
              "  </script>\n",
              "</div>\n",
              "    </div>\n",
              "  </div>\n"
            ],
            "text/plain": [
              "   Selection  Begin Time (s)  End Time (s)  Low Freq (Hz)  High Freq (Hz)  \\\n",
              "0          1     1646.999571   1648.733984        628.263        1297.059   \n",
              "1          2     1653.223452   1654.641001        749.862        1134.926   \n",
              "2          3     1659.862135   1660.595925        770.129        1033.594   \n",
              "3          4     1661.796673   1663.747887        283.732         709.329   \n",
              "4          5     1678.344185   1680.262045        506.664        1013.327   \n",
              "\n",
              "        Call Type  \n",
              "0  Ascending moan  \n",
              "1            Moan  \n",
              "2            Moan  \n",
              "3  Ascending moan  \n",
              "4            Moan  "
            ]
          },
          "execution_count": 8,
          "metadata": {},
          "output_type": "execute_result"
        }
      ],
      "source": [
        "annotation_filename = \"OS_10_03_2021_19_34_00_.Table.1.selections.txt\"\n",
        "\n",
        "df = pd.read_csv(f\"{annotations_path}/{annotation_filename}\", sep=\"\\t\")\n",
        "df.head()"
      ]
    },
    {
      "cell_type": "markdown",
      "metadata": {
        "id": "yVghS-HeFtba"
      },
      "source": [
        "### 1.2. Extract and Store Vocalizatons\n",
        "\n",
        "Since the annotation files contain specific low-frequency and high-frequency indications in Hz, we apply a bandpass filter to the extracted audio segments to retain only the frequencies within that range. This is done using the scipy.signal library's `butter` and `filtfilt` functions to design and apply the filter."
      ]
    },
    {
      "cell_type": "code",
      "execution_count": 21,
      "metadata": {
        "id": "gZyGd_VIJaZY"
      },
      "outputs": [],
      "source": [
        "# Function to design a Butterworth bandpass filter\n",
        "def butter_bandpass(lowcut, highcut, fs, order=5):\n",
        "    nyquist = 0.5 * fs\n",
        "    low = lowcut / nyquist\n",
        "    high = highcut / nyquist\n",
        "    b, a = sp.butter(order, [low, high], btype='band')\n",
        "    return b, a\n",
        "\n",
        "# Function to apply the bandpass filter to a signal\n",
        "def butter_bandpass_filter(data, lowcut, highcut, fs, order=5):\n",
        "    b, a = butter_bandpass(lowcut, highcut, fs, order=order)\n",
        "    y = sp.filtfilt(b, a, data)\n",
        "    return y"
      ]
    },
    {
      "cell_type": "code",
      "execution_count": 24,
      "metadata": {
        "id": "uM0fy5EfDj8s"
      },
      "outputs": [],
      "source": [
        "audio_file_name = annotation_filename.split(\".\")[0]\n",
        "\n",
        "x, sr = librosa.load(f\"{audio_path}/{audio_file_name}.flac\", sr=44100)  # x is the audio signal, sr is the sample rate\n",
        "\n",
        "for index, row in df.iterrows():\n",
        "  selection = row[\"Selection\"]\n",
        "  start_time = row[\"Begin Time (s)\"]\n",
        "  end_time = row[\"End Time (s)\"]\n",
        "  lowcut = row[\"Low Freq (Hz)\"]\n",
        "  highcut = row[\"High Freq (Hz)\"]\n",
        "  call_type = row[\"Call Type\"].replace(\" \",\"_\")\n",
        "\n",
        "  # Convert time to sample index\n",
        "  start_sample = librosa.time_to_samples(start_time, sr=sr)\n",
        "  end_sample = librosa.time_to_samples(end_time, sr=sr)\n",
        "\n",
        "  # Extract the sample\n",
        "  extracted_sample = x[start_sample:end_sample]\n",
        "\n",
        "  # Apply the bandpass filter\n",
        "  filtered_sample = butter_bandpass_filter(extracted_sample, lowcut, highcut, sr, order=6)\n",
        "\n",
        "  # Save the extracted sample to a new file\n",
        "  isExist = os.path.exists(f\"{extracted_calls_path}/{call_type}\")\n",
        "  if not isExist:\n",
        "    os.makedirs(f\"{extracted_calls_path}/{call_type}\")\n",
        "  sf.write(f\"{extracted_calls_path}/{call_type}/{audio_file_name}_{selection}.wav\", filtered_sample, sr)"
      ]
    },
    {
      "cell_type": "markdown",
      "metadata": {
        "id": "ointo2bVLloN"
      },
      "source": [
        "Repeat 1.1. and 1.2 for each annotation file."
      ]
    }
  ],
  "metadata": {
    "accelerator": "GPU",
    "colab": {
      "gpuType": "A100",
      "machine_shape": "hm",
      "provenance": []
    },
    "kernelspec": {
      "display_name": "Python 3",
      "name": "python3"
    },
    "language_info": {
      "name": "python"
    },
    "orig_nbformat": 4
  },
  "nbformat": 4,
  "nbformat_minor": 0
}
