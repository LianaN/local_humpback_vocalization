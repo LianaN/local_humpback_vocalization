{
  "nbformat": 4,
  "nbformat_minor": 0,
  "metadata": {
    "colab": {
      "provenance": []
    },
    "kernelspec": {
      "name": "python3",
      "display_name": "Python 3"
    },
    "language_info": {
      "name": "python"
    }
  },
  "cells": [
    {
      "cell_type": "markdown",
      "source": [
        "# Development Environment Setup\n",
        "\n",
        "This notebook shows how to set up the development environment in Google Colab.\n",
        "\n",
        "Pre-requisites:\n",
        "1. Got to your [Google Drive](https://drive.google.com/drive/) and create a new folder called `local_humpback_vocalization`."
      ],
      "metadata": {
        "id": "L5Mz1H4z0fKX"
      }
    },
    {
      "cell_type": "code",
      "execution_count": 1,
      "metadata": {
        "colab": {
          "base_uri": "https://localhost:8080/"
        },
        "id": "0G4foY1PzZyP",
        "outputId": "5d0cd73b-9239-40ff-c430-14c97791c1da"
      },
      "outputs": [
        {
          "output_type": "stream",
          "name": "stdout",
          "text": [
            "Drive already mounted at /content/gdrive; to attempt to forcibly remount, call drive.mount(\"/content/gdrive\", force_remount=True).\n"
          ]
        }
      ],
      "source": [
        "from google.colab import drive\n",
        "drive.mount(\"/content/gdrive\")"
      ]
    },
    {
      "cell_type": "code",
      "source": [
        "!ls"
      ],
      "metadata": {
        "colab": {
          "base_uri": "https://localhost:8080/"
        },
        "id": "iAg91Ctjz8_d",
        "outputId": "c53b58eb-7e27-40ab-cb6b-88ba4b8daa12"
      },
      "execution_count": 2,
      "outputs": [
        {
          "output_type": "stream",
          "name": "stdout",
          "text": [
            "gdrive\tsample_data\n"
          ]
        }
      ]
    },
    {
      "cell_type": "code",
      "source": [
        "%cd gdrive/MyDrive/Colab Notebooks/local_humpback_vocalization"
      ],
      "metadata": {
        "colab": {
          "base_uri": "https://localhost:8080/"
        },
        "id": "bW6U5Mg_zzt7",
        "outputId": "696512fb-16bf-4d2e-9222-a7c4ace14f17"
      },
      "execution_count": 4,
      "outputs": [
        {
          "output_type": "stream",
          "name": "stdout",
          "text": [
            "/content/gdrive/MyDrive/Colab Notebooks/local_humpback_vocalization\n"
          ]
        }
      ]
    },
    {
      "cell_type": "code",
      "source": [
        "!git clone https://github.com/LianaN/local_humpback_vocalization.git"
      ],
      "metadata": {
        "colab": {
          "base_uri": "https://localhost:8080/"
        },
        "id": "FuwKm3Vq0TZU",
        "outputId": "eb834a76-4d2d-4345-91cb-c0c3921ef2e3"
      },
      "execution_count": 6,
      "outputs": [
        {
          "output_type": "stream",
          "name": "stdout",
          "text": [
            "Cloning into 'local_humpback_vocalization'...\n",
            "remote: Enumerating objects: 25, done.\u001b[K\n",
            "remote: Counting objects: 100% (25/25), done.\u001b[K\n",
            "remote: Compressing objects: 100% (15/15), done.\u001b[K\n",
            "remote: Total 25 (delta 7), reused 20 (delta 7), pack-reused 0\u001b[K\n",
            "Receiving objects: 100% (25/25), 8.45 KiB | 309.00 KiB/s, done.\n",
            "Resolving deltas: 100% (7/7), done.\n"
          ]
        }
      ]
    },
    {
      "cell_type": "code",
      "source": [
        "!git pull"
      ],
      "metadata": {
        "id": "iQmclRB00deh"
      },
      "execution_count": null,
      "outputs": []
    },
    {
      "cell_type": "markdown",
      "source": [
        "Now File in the upper menu of Google Colaboratory and click on `Locate in Drive`. Then access the folder `local_humpback_vocalization/notebooks`. Then right click on the notebook `1_data_acquisition.ipynb` and oepn it in \"Google Colaboratory\"."
      ],
      "metadata": {
        "id": "fbhLl4O41Rpe"
      }
    },
    {
      "cell_type": "markdown",
      "source": [],
      "metadata": {
        "id": "TTCM94Vy1q6q"
      }
    }
  ]
}