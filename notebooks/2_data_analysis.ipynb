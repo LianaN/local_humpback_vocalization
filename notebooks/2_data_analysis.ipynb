{
 "cells": [
  {
   "cell_type": "markdown",
   "metadata": {},
   "source": [
    "# Data Analysis\n",
    "Pre-requisites: Run the notebook `1_data_acquisition.ipynb` to download the labeled data of humpback vocalizations from [Orcasound's AWS open data repository](https://open.quiltdata.com/b/acoustic-sandbox/tree/humpbacks/Emily-Vierling-Orcasound-data/Em_HW_data/flac_files/).\n",
    "\n",
    "This notebook analyses the labeled data of humpback vocalizations prepared by Emily Vierling. The data set includes ~9,000 labels and is based on ~YY hours of audio data from 3 days during October 03-28, 2021."
   ]
  },
  {
   "cell_type": "code",
   "execution_count": null,
   "metadata": {},
   "outputs": [],
   "source": []
  }
 ],
 "metadata": {
  "language_info": {
   "name": "python"
  },
  "orig_nbformat": 4
 },
 "nbformat": 4,
 "nbformat_minor": 2
}
