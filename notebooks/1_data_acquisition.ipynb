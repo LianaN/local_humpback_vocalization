{
  "cells": [
    {
      "cell_type": "markdown",
      "metadata": {
        "id": "view-in-github"
      },
      "source": [
        "<a href=\"https://colab.research.google.com/github/LianaN/local_humpback_vocalization/blob/main/1_data_acquisition.ipynb\" target=\"_parent\"><img src=\"https://colab.research.google.com/assets/colab-badge.svg\" alt=\"Open In Colab\"/></a>"
      ]
    },
    {
      "cell_type": "markdown",
      "metadata": {
        "id": "RCt7T96cJpT4"
      },
      "source": [
        "# Data Acquisition\n",
        "This notebook downloads the labeled data of humpback vocalizations from [Orcasound's AWS open data repository](https://open.quiltdata.com/b/acoustic-sandbox/tree/humpbacks/Emily-Vierling-Orcasound-data/Em_HW_data/flac_files/). The dataset was prepared by Emily Vierling. It includes ~9,000 labels and is based on ~YY hours of audio data from 3 days during October 03-28, 2021."
      ]
    },
    {
      "cell_type": "code",
      "execution_count": 6,
      "metadata": {
        "id": "iPAew6C0IKAs"
      },
      "outputs": [],
      "source": [
        "#!pip install quilt3[pyarrow]"
      ]
    },
    {
      "cell_type": "code",
      "execution_count": 5,
      "metadata": {
        "id": "DcNSf6S03rST"
      },
      "outputs": [],
      "source": [
        "#!pip install pydub"
      ]
    },
    {
      "cell_type": "code",
      "execution_count": 1,
      "metadata": {
        "id": "JXGB41mcIQnX"
      },
      "outputs": [],
      "source": [
        "# Documentation of quilt3 package: https://docs.quiltdata.com/walkthrough/working-with-a-bucket\n",
        "import quilt3\n",
        "\n",
        "import os\n",
        "import pandas as pd\n",
        "from IPython.display import Audio, display\n",
        "from pydub import AudioSegment"
      ]
    },
    {
      "cell_type": "markdown",
      "source": [
        "Uncomment the code below if you are using Google Colaboratory. It will connect to the project folder in Google Drive to ensure that the data downloaded further is persisted in Google Drive."
      ],
      "metadata": {
        "id": "HSUdmrks5ZT3"
      }
    },
    {
      "cell_type": "code",
      "source": [
        "#from google.colab import drive\n",
        "#drive.mount(\"/content/gdrive\")\n",
        "#%cd gdrive/MyDrive/Colab Notebooks/local_humpback_vocalization/local_humpback_vocalization/notebooks"
      ],
      "metadata": {
        "colab": {
          "base_uri": "https://localhost:8080/"
        },
        "id": "YlI8T9-l33Xj",
        "outputId": "4a2f6e49-342c-4dd9-a00c-85b39cab6126"
      },
      "execution_count": 2,
      "outputs": [
        {
          "output_type": "stream",
          "name": "stdout",
          "text": [
            "Drive already mounted at /content/gdrive; to attempt to forcibly remount, call drive.mount(\"/content/gdrive\", force_remount=True).\n",
            "/content/gdrive/MyDrive/Colab Notebooks/local_humpback_vocalization/local_humpback_vocalization/notebooks\n"
          ]
        }
      ]
    },
    {
      "cell_type": "code",
      "execution_count": 3,
      "metadata": {
        "id": "i_8j-JFL3rSV"
      },
      "outputs": [],
      "source": [
        "data_download_folder = \"../data\""
      ]
    },
    {
      "cell_type": "code",
      "execution_count": 4,
      "metadata": {
        "id": "809e9kERIgDf"
      },
      "outputs": [],
      "source": [
        "# Connect to a public AWS S3 bucket\n",
        "b = quilt3.Bucket(\"s3://acoustic-sandbox\")"
      ]
    },
    {
      "cell_type": "code",
      "execution_count": 5,
      "metadata": {
        "colab": {
          "base_uri": "https://localhost:8080/"
        },
        "id": "yzGC934XInQW",
        "outputId": "30945841-7c1d-42ab-c2b1-5ed55ad01b16"
      },
      "outputs": [
        {
          "output_type": "stream",
          "name": "stderr",
          "text": [
            "100%|██████████| 76.8k/76.8k [00:02<00:00, 32.2kB/s]\n",
            "100%|██████████| 3.48M/3.48M [00:03<00:00, 881kB/s] \n"
          ]
        }
      ],
      "source": [
        "# Download annotation files\n",
        "b.fetch(\"humpbacks/Emily-Vierling-Orcasound-data/Em_HW_data/Annotations/\", f\"{data_download_folder}/raw/annotations/\")\n",
        "b.fetch(\"humpbacks/Emily-Vierling-Orcasound-data/Em_HW_Processed/annotationfiles/specs/\", f\"{data_download_folder}/preprocessed/annotations/\")"
      ]
    },
    {
      "cell_type": "code",
      "execution_count": 6,
      "metadata": {
        "colab": {
          "base_uri": "https://localhost:8080/"
        },
        "id": "r8x8wCQEIwCO",
        "outputId": "78007039-1528-4b53-9877-3c64574d3530"
      },
      "outputs": [
        {
          "output_type": "stream",
          "name": "stderr",
          "text": [
            "100%|██████████| 993M/993M [00:12<00:00, 80.5MB/s]\n",
            "100%|██████████| 21.7M/21.7M [00:09<00:00, 2.22MB/s]\n"
          ]
        }
      ],
      "source": [
        "# Download audio data\n",
        "b.fetch(\"humpbacks/Emily-Vierling-Orcasound-data/Em_HW_data/flac_files/\", f\"{data_download_folder}/raw/audio/\")\n",
        "b.fetch(\"humpbacks/Emily-Vierling-Orcasound-data/Em_HW_Processed/annotationfiles/audio/\", f\"{data_download_folder}/preprocessed/audio/\")"
      ]
    },
    {
      "cell_type": "code",
      "execution_count": 7,
      "metadata": {
        "colab": {
          "base_uri": "https://localhost:8080/"
        },
        "id": "-E-N7jU0MzYj",
        "outputId": "a3d37064-4636-4013-d850-0c4bccdbf5d2"
      },
      "outputs": [
        {
          "output_type": "stream",
          "name": "stdout",
          "text": [
            "OS_10_28_2021_18_54_00_.Table.1.selections.txt\n",
            "OS_10_03_2021_19_34_00_.Table.1.selections.txt\n",
            "OS_10_28_2021_1900_HB.Table.1.selections.txt\n",
            "211026-133018-OS-humpback-47min-clip.Table.1.selections.txt\n",
            "OS_10_28_2021_20_25_00_HB.Table.1.selections.txt\n",
            "OS_10_28_2021_19_55_00_.Table.1.selections.txt\n",
            "OS_10_28_2021_19_24_00_.Table.1.selections.txt\n"
          ]
        }
      ],
      "source": [
        "# Review annotations data\n",
        "folder_path = f\"{data_download_folder}/raw/annotations/\"\n",
        "filenames = []\n",
        "\n",
        "if os.path.exists(folder_path):\n",
        "    for filename in os.listdir(folder_path):\n",
        "        print(filename)\n",
        "        filenames.append(filename)"
      ]
    },
    {
      "cell_type": "code",
      "execution_count": 10,
      "metadata": {
        "colab": {
          "base_uri": "https://localhost:8080/",
          "height": 206
        },
        "id": "SXy27ELvJ364",
        "outputId": "e3beb9de-3d91-461d-d415-53a4e280cc2f"
      },
      "outputs": [
        {
          "output_type": "execute_result",
          "data": {
            "text/plain": [
              "   Selection  Begin Time (s)  End Time (s)  Low Freq (Hz)  High Freq (Hz)  \\\n",
              "0          1      370.710682    371.418228         40.533         607.996   \n",
              "1          2      606.940232    607.411929        364.798        1337.592   \n",
              "2          3      612.735841    615.157221        283.732        2026.654   \n",
              "3          4      620.314446    622.965406          0.000        1742.923   \n",
              "4          5      628.248417    630.764136        243.199        1823.989   \n",
              "\n",
              "         Call Type  \n",
              "0            Growl  \n",
              "1          Upsweep  \n",
              "2             Moan  \n",
              "3             Moan  \n",
              "4  Descending moan  "
            ],
            "text/html": [
              "\n",
              "  <div id=\"df-0c7abf64-de68-42c7-b5b7-5d5dd7562a43\" class=\"colab-df-container\">\n",
              "    <div>\n",
              "<style scoped>\n",
              "    .dataframe tbody tr th:only-of-type {\n",
              "        vertical-align: middle;\n",
              "    }\n",
              "\n",
              "    .dataframe tbody tr th {\n",
              "        vertical-align: top;\n",
              "    }\n",
              "\n",
              "    .dataframe thead th {\n",
              "        text-align: right;\n",
              "    }\n",
              "</style>\n",
              "<table border=\"1\" class=\"dataframe\">\n",
              "  <thead>\n",
              "    <tr style=\"text-align: right;\">\n",
              "      <th></th>\n",
              "      <th>Selection</th>\n",
              "      <th>Begin Time (s)</th>\n",
              "      <th>End Time (s)</th>\n",
              "      <th>Low Freq (Hz)</th>\n",
              "      <th>High Freq (Hz)</th>\n",
              "      <th>Call Type</th>\n",
              "    </tr>\n",
              "  </thead>\n",
              "  <tbody>\n",
              "    <tr>\n",
              "      <th>0</th>\n",
              "      <td>1</td>\n",
              "      <td>370.710682</td>\n",
              "      <td>371.418228</td>\n",
              "      <td>40.533</td>\n",
              "      <td>607.996</td>\n",
              "      <td>Growl</td>\n",
              "    </tr>\n",
              "    <tr>\n",
              "      <th>1</th>\n",
              "      <td>2</td>\n",
              "      <td>606.940232</td>\n",
              "      <td>607.411929</td>\n",
              "      <td>364.798</td>\n",
              "      <td>1337.592</td>\n",
              "      <td>Upsweep</td>\n",
              "    </tr>\n",
              "    <tr>\n",
              "      <th>2</th>\n",
              "      <td>3</td>\n",
              "      <td>612.735841</td>\n",
              "      <td>615.157221</td>\n",
              "      <td>283.732</td>\n",
              "      <td>2026.654</td>\n",
              "      <td>Moan</td>\n",
              "    </tr>\n",
              "    <tr>\n",
              "      <th>3</th>\n",
              "      <td>4</td>\n",
              "      <td>620.314446</td>\n",
              "      <td>622.965406</td>\n",
              "      <td>0.000</td>\n",
              "      <td>1742.923</td>\n",
              "      <td>Moan</td>\n",
              "    </tr>\n",
              "    <tr>\n",
              "      <th>4</th>\n",
              "      <td>5</td>\n",
              "      <td>628.248417</td>\n",
              "      <td>630.764136</td>\n",
              "      <td>243.199</td>\n",
              "      <td>1823.989</td>\n",
              "      <td>Descending moan</td>\n",
              "    </tr>\n",
              "  </tbody>\n",
              "</table>\n",
              "</div>\n",
              "    <div class=\"colab-df-buttons\">\n",
              "\n",
              "  <div class=\"colab-df-container\">\n",
              "    <button class=\"colab-df-convert\" onclick=\"convertToInteractive('df-0c7abf64-de68-42c7-b5b7-5d5dd7562a43')\"\n",
              "            title=\"Convert this dataframe to an interactive table.\"\n",
              "            style=\"display:none;\">\n",
              "\n",
              "  <svg xmlns=\"http://www.w3.org/2000/svg\" height=\"24px\" viewBox=\"0 -960 960 960\">\n",
              "    <path d=\"M120-120v-720h720v720H120Zm60-500h600v-160H180v160Zm220 220h160v-160H400v160Zm0 220h160v-160H400v160ZM180-400h160v-160H180v160Zm440 0h160v-160H620v160ZM180-180h160v-160H180v160Zm440 0h160v-160H620v160Z\"/>\n",
              "  </svg>\n",
              "    </button>\n",
              "\n",
              "  <style>\n",
              "    .colab-df-container {\n",
              "      display:flex;\n",
              "      gap: 12px;\n",
              "    }\n",
              "\n",
              "    .colab-df-convert {\n",
              "      background-color: #E8F0FE;\n",
              "      border: none;\n",
              "      border-radius: 50%;\n",
              "      cursor: pointer;\n",
              "      display: none;\n",
              "      fill: #1967D2;\n",
              "      height: 32px;\n",
              "      padding: 0 0 0 0;\n",
              "      width: 32px;\n",
              "    }\n",
              "\n",
              "    .colab-df-convert:hover {\n",
              "      background-color: #E2EBFA;\n",
              "      box-shadow: 0px 1px 2px rgba(60, 64, 67, 0.3), 0px 1px 3px 1px rgba(60, 64, 67, 0.15);\n",
              "      fill: #174EA6;\n",
              "    }\n",
              "\n",
              "    .colab-df-buttons div {\n",
              "      margin-bottom: 4px;\n",
              "    }\n",
              "\n",
              "    [theme=dark] .colab-df-convert {\n",
              "      background-color: #3B4455;\n",
              "      fill: #D2E3FC;\n",
              "    }\n",
              "\n",
              "    [theme=dark] .colab-df-convert:hover {\n",
              "      background-color: #434B5C;\n",
              "      box-shadow: 0px 1px 3px 1px rgba(0, 0, 0, 0.15);\n",
              "      filter: drop-shadow(0px 1px 2px rgba(0, 0, 0, 0.3));\n",
              "      fill: #FFFFFF;\n",
              "    }\n",
              "  </style>\n",
              "\n",
              "    <script>\n",
              "      const buttonEl =\n",
              "        document.querySelector('#df-0c7abf64-de68-42c7-b5b7-5d5dd7562a43 button.colab-df-convert');\n",
              "      buttonEl.style.display =\n",
              "        google.colab.kernel.accessAllowed ? 'block' : 'none';\n",
              "\n",
              "      async function convertToInteractive(key) {\n",
              "        const element = document.querySelector('#df-0c7abf64-de68-42c7-b5b7-5d5dd7562a43');\n",
              "        const dataTable =\n",
              "          await google.colab.kernel.invokeFunction('convertToInteractive',\n",
              "                                                    [key], {});\n",
              "        if (!dataTable) return;\n",
              "\n",
              "        const docLinkHtml = 'Like what you see? Visit the ' +\n",
              "          '<a target=\"_blank\" href=https://colab.research.google.com/notebooks/data_table.ipynb>data table notebook</a>'\n",
              "          + ' to learn more about interactive tables.';\n",
              "        element.innerHTML = '';\n",
              "        dataTable['output_type'] = 'display_data';\n",
              "        await google.colab.output.renderOutput(dataTable, element);\n",
              "        const docLink = document.createElement('div');\n",
              "        docLink.innerHTML = docLinkHtml;\n",
              "        element.appendChild(docLink);\n",
              "      }\n",
              "    </script>\n",
              "  </div>\n",
              "\n",
              "\n",
              "<div id=\"df-7616ddd9-a3df-4408-90eb-ebb134e4c538\">\n",
              "  <button class=\"colab-df-quickchart\" onclick=\"quickchart('df-7616ddd9-a3df-4408-90eb-ebb134e4c538')\"\n",
              "            title=\"Suggest charts.\"\n",
              "            style=\"display:none;\">\n",
              "\n",
              "<svg xmlns=\"http://www.w3.org/2000/svg\" height=\"24px\"viewBox=\"0 0 24 24\"\n",
              "     width=\"24px\">\n",
              "    <g>\n",
              "        <path d=\"M19 3H5c-1.1 0-2 .9-2 2v14c0 1.1.9 2 2 2h14c1.1 0 2-.9 2-2V5c0-1.1-.9-2-2-2zM9 17H7v-7h2v7zm4 0h-2V7h2v10zm4 0h-2v-4h2v4z\"/>\n",
              "    </g>\n",
              "</svg>\n",
              "  </button>\n",
              "\n",
              "<style>\n",
              "  .colab-df-quickchart {\n",
              "    background-color: #E8F0FE;\n",
              "    border: none;\n",
              "    border-radius: 50%;\n",
              "    cursor: pointer;\n",
              "    display: none;\n",
              "    fill: #1967D2;\n",
              "    height: 32px;\n",
              "    padding: 0 0 0 0;\n",
              "    width: 32px;\n",
              "  }\n",
              "\n",
              "  .colab-df-quickchart:hover {\n",
              "    background-color: #E2EBFA;\n",
              "    box-shadow: 0px 1px 2px rgba(60, 64, 67, 0.3), 0px 1px 3px 1px rgba(60, 64, 67, 0.15);\n",
              "    fill: #174EA6;\n",
              "  }\n",
              "\n",
              "  [theme=dark] .colab-df-quickchart {\n",
              "    background-color: #3B4455;\n",
              "    fill: #D2E3FC;\n",
              "  }\n",
              "\n",
              "  [theme=dark] .colab-df-quickchart:hover {\n",
              "    background-color: #434B5C;\n",
              "    box-shadow: 0px 1px 3px 1px rgba(0, 0, 0, 0.15);\n",
              "    filter: drop-shadow(0px 1px 2px rgba(0, 0, 0, 0.3));\n",
              "    fill: #FFFFFF;\n",
              "  }\n",
              "</style>\n",
              "\n",
              "  <script>\n",
              "    async function quickchart(key) {\n",
              "      const charts = await google.colab.kernel.invokeFunction(\n",
              "          'suggestCharts', [key], {});\n",
              "    }\n",
              "    (() => {\n",
              "      let quickchartButtonEl =\n",
              "        document.querySelector('#df-7616ddd9-a3df-4408-90eb-ebb134e4c538 button');\n",
              "      quickchartButtonEl.style.display =\n",
              "        google.colab.kernel.accessAllowed ? 'block' : 'none';\n",
              "    })();\n",
              "  </script>\n",
              "</div>\n",
              "    </div>\n",
              "  </div>\n"
            ]
          },
          "metadata": {},
          "execution_count": 10
        }
      ],
      "source": [
        "# Show the content of an arbitrary annotation file\n",
        "path = f\"{data_download_folder}/raw/annotations/\"\n",
        "\n",
        "df = pd.read_csv(f\"{path}/{filenames[0]}\", sep=\"\\t\")\n",
        "df.head()"
      ]
    },
    {
      "cell_type": "code",
      "execution_count": 11,
      "metadata": {
        "colab": {
          "base_uri": "https://localhost:8080/"
        },
        "id": "4zCwyZ1MRAbc",
        "outputId": "e7ed4718-f307-41d3-91d9-226eb567e22b"
      },
      "outputs": [
        {
          "output_type": "stream",
          "name": "stdout",
          "text": [
            "OS_10_03_2021_19_34_00_.flac\n",
            "OS_10_28_2021_18_54_00_.flac\n",
            "211026-133018-OS-humpback-47min-clip.flac\n",
            "OS_10_28_2021_1900_HB.flac\n",
            "OS_10_28_2021_19_24_00_.flac\n",
            "OS_10_28_2021_20_25_00_HB.flac\n",
            "OS_10_28_2021_19_55_00_.flac\n"
          ]
        }
      ],
      "source": [
        "# Review audio data\n",
        "folder_path = f\"{data_download_folder}/raw/audio/\"\n",
        "audio_filenames = []\n",
        "\n",
        "if os.path.exists(folder_path):\n",
        "    for audio_filename in os.listdir(folder_path):\n",
        "        print(audio_filename)\n",
        "        audio_filenames.append(audio_filename)"
      ]
    },
    {
      "cell_type": "code",
      "execution_count": 12,
      "metadata": {
        "id": "nz8Rc4UvR5r-"
      },
      "outputs": [],
      "source": [
        "# If needed for your analysis, convert FLAC files to WAV format using pydub and then play them.\n",
        "#path = f\"{data_download_folder}/raw/audio\"\n",
        "#for i in range(len(audio_filenames)):\n",
        "#  audio = AudioSegment.from_file(f\"{path}/{audio_filenames[i]}\", format=\"flac\")\n",
        "#  audio_filename_wav = audio_filenames[i].replace(\"flac\",\"wav\")\n",
        "#  audio.export(f\"{path}/{audio_filename_wav}\", format=\"wav\")"
      ]
    },
    {
      "cell_type": "code",
      "execution_count": 13,
      "metadata": {
        "id": "_KDToK0sSln0"
      },
      "outputs": [],
      "source": [
        "# Play an arbitrary audio file\n",
        "audio_filename_wav = audio_filenames[0].replace(\"flac\",\"wav\")\n",
        "\n",
        "display(Audio(f\"{path}/{audio_filename_wav}\", autoplay=True))"
      ]
    },
    {
      "cell_type": "code",
      "execution_count": null,
      "metadata": {
        "id": "i4HzvwKQU06n"
      },
      "outputs": [],
      "source": []
    }
  ],
  "metadata": {
    "colab": {
      "provenance": []
    },
    "kernelspec": {
      "display_name": "Python 3",
      "name": "python3"
    },
    "language_info": {
      "codemirror_mode": {
        "name": "ipython",
        "version": 3
      },
      "file_extension": ".py",
      "mimetype": "text/x-python",
      "name": "python",
      "nbconvert_exporter": "python",
      "pygments_lexer": "ipython3",
      "version": "3.10.11"
    }
  },
  "nbformat": 4,
  "nbformat_minor": 0
}