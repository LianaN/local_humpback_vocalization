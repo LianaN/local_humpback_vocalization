{
  "cells": [
    {
      "cell_type": "markdown",
      "metadata": {
        "colab_type": "text",
        "id": "view-in-github"
      },
      "source": [
        "<a href=\"https://colab.research.google.com/github/LianaN/local_humpback_vocalization/blob/main/1_data_acquisition.ipynb\" target=\"_parent\"><img src=\"https://colab.research.google.com/assets/colab-badge.svg\" alt=\"Open In Colab\"/></a>"
      ]
    },
    {
      "cell_type": "markdown",
      "metadata": {
        "id": "RCt7T96cJpT4"
      },
      "source": [
        "# Data Acquisition\n",
        "This notebook downloads the labeled data of humpback vocalizations from [Orcasound's AWS open data repository](https://open.quiltdata.com/b/acoustic-sandbox/tree/humpbacks/Emily-Vierling-Orcasound-data/Em_HW_data/flac_files/). The dataset was prepared by Emily Vierling. It includes ~9,000 labels and is based on ~YY hours of audio data from 3 days during October 03-28, 2021."
      ]
    },
    {
      "cell_type": "code",
      "execution_count": null,
      "metadata": {
        "colab": {
          "base_uri": "https://localhost:8080/"
        },
        "id": "iPAew6C0IKAs",
        "outputId": "3c3edb4e-8425-4c42-8abc-062da2cb8d4b"
      },
      "outputs": [],
      "source": [
        "#!pip install quilt3[pyarrow]"
      ]
    },
    {
      "cell_type": "code",
      "execution_count": null,
      "metadata": {},
      "outputs": [],
      "source": [
        "#!pip install pydub"
      ]
    },
    {
      "cell_type": "code",
      "execution_count": null,
      "metadata": {
        "id": "JXGB41mcIQnX"
      },
      "outputs": [],
      "source": [
        "# Documentation of quilt3 package: https://docs.quiltdata.com/walkthrough/working-with-a-bucket\n",
        "import quilt3\n",
        "\n",
        "import os\n",
        "import pandas as pd\n",
        "from IPython.display import Audio, display\n",
        "from pydub import AudioSegment"
      ]
    },
    {
      "cell_type": "code",
      "execution_count": null,
      "metadata": {},
      "outputs": [],
      "source": [
        "data_download_folder = \"../data\""
      ]
    },
    {
      "cell_type": "code",
      "execution_count": null,
      "metadata": {
        "id": "809e9kERIgDf"
      },
      "outputs": [],
      "source": [
        "# Connect to a public AWS S3 bucket\n",
        "b = quilt3.Bucket(\"s3://acoustic-sandbox\")"
      ]
    },
    {
      "cell_type": "code",
      "execution_count": null,
      "metadata": {
        "colab": {
          "base_uri": "https://localhost:8080/"
        },
        "id": "yzGC934XInQW",
        "outputId": "b3430555-e34e-4a0f-adaf-fcdffa0e5fa9"
      },
      "outputs": [],
      "source": [
        "# Download annotation files\n",
        "b.fetch(\"humpbacks/Emily-Vierling-Orcasound-data/Em_HW_data/Annotations/\", f\"{data_download_folder}/raw/annotations/\")\n",
        "b.fetch(\"humpbacks/Emily-Vierling-Orcasound-data/Em_HW_Processed/annotationfiles/specs/\", f\"{data_download_folder}/preprocessed/annotations/\")"
      ]
    },
    {
      "cell_type": "code",
      "execution_count": null,
      "metadata": {
        "colab": {
          "base_uri": "https://localhost:8080/"
        },
        "id": "r8x8wCQEIwCO",
        "outputId": "e85d503d-73ea-435e-e3a7-345c55fadbda"
      },
      "outputs": [],
      "source": [
        "# Download audio data\n",
        "b.fetch(\"humpbacks/Emily-Vierling-Orcasound-data/Em_HW_data/flac_files/\", f\"{data_download_folder}/raw/audio/\")\n",
        "b.fetch(\"humpbacks/Emily-Vierling-Orcasound-data/Em_HW_Processed/annotationfiles/audio/\", f\"{data_download_folder}/preprocessed/audio/\")"
      ]
    },
    {
      "cell_type": "code",
      "execution_count": null,
      "metadata": {
        "colab": {
          "base_uri": "https://localhost:8080/"
        },
        "id": "-E-N7jU0MzYj",
        "outputId": "02ba5942-46c6-48cc-8ab0-4da13dcac822"
      },
      "outputs": [],
      "source": [
        "# Review annotations data\n",
        "folder_path = f\"{data_download_folder}/raw/annotations/\"\n",
        "filenames = []\n",
        "\n",
        "if os.path.exists(folder_path):\n",
        "    for filename in os.listdir(folder_path):\n",
        "        print(filename)\n",
        "        filenames.append(filename)"
      ]
    },
    {
      "cell_type": "code",
      "execution_count": null,
      "metadata": {
        "colab": {
          "base_uri": "https://localhost:8080/",
          "height": 206
        },
        "id": "SXy27ELvJ364",
        "outputId": "b39a1089-7f0a-489f-a7ce-72633128b0bc"
      },
      "outputs": [],
      "source": [
        "# Show the content of an arbitrary annotation file\n",
        "path = f\"{data_download_folder}/raw/annotations/\"\n",
        "\n",
        "df = pd.read_csv(f\"{path}/{filenames[0]}\", sep=\"\\t\")\n",
        "df.head()"
      ]
    },
    {
      "cell_type": "code",
      "execution_count": null,
      "metadata": {
        "colab": {
          "base_uri": "https://localhost:8080/"
        },
        "id": "4zCwyZ1MRAbc",
        "outputId": "7ffaced8-edca-4055-e205-0a6f1d2763db"
      },
      "outputs": [],
      "source": [
        "# Review audio data\n",
        "folder_path = f\"{data_download_folder}/raw/audio/\"\n",
        "audio_filenames = []\n",
        "\n",
        "if os.path.exists(folder_path):\n",
        "    for audio_filename in os.listdir(folder_path):\n",
        "        print(audio_filename)\n",
        "        audio_filenames.append(audio_filename)"
      ]
    },
    {
      "cell_type": "code",
      "execution_count": null,
      "metadata": {
        "id": "nz8Rc4UvR5r-"
      },
      "outputs": [],
      "source": [
        "# IPython.display.Audio doesn't support FLAC format directly.\n",
        "# Therefore we should convert FLAC files to WAV format using pydub and then play them.\n",
        "path = f\"{data_download_folder}/raw/audio\"\n",
        "\n",
        "for i in range(len(audio_filenames)):\n",
        "  audio = AudioSegment.from_file(f\"{path}/{audio_filenames[i]}\", format=\"flac\")\n",
        "  audio_filename_wav = audio_filenames[i].replace(\"flac\",\"wav\")\n",
        "  audio.export(f\"{path}/{audio_filename_wav}\", format=\"wav\")"
      ]
    },
    {
      "cell_type": "code",
      "execution_count": null,
      "metadata": {
        "id": "_KDToK0sSln0"
      },
      "outputs": [],
      "source": [
        "# Play an arbitrary audio file\n",
        "audio_filename_wav = audio_filenames[0].replace(\"flac\",\"wav\")\n",
        "\n",
        "display(Audio(f\"{path}/{audio_filename_wav}\", autoplay=True))"
      ]
    },
    {
      "cell_type": "code",
      "execution_count": null,
      "metadata": {
        "id": "i4HzvwKQU06n"
      },
      "outputs": [],
      "source": []
    }
  ],
  "metadata": {
    "colab": {
      "authorship_tag": "ABX9TyN3wqCXDTixOAlCBqBWvxmi",
      "include_colab_link": true,
      "provenance": []
    },
    "kernelspec": {
      "display_name": "Python 3",
      "name": "python3"
    },
    "language_info": {
      "codemirror_mode": {
        "name": "ipython",
        "version": 3
      },
      "file_extension": ".py",
      "mimetype": "text/x-python",
      "name": "python",
      "nbconvert_exporter": "python",
      "pygments_lexer": "ipython3",
      "version": "3.10.11"
    }
  },
  "nbformat": 4,
  "nbformat_minor": 0
}
